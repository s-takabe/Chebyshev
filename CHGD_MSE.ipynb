{
  "nbformat": 4,
  "nbformat_minor": 0,
  "metadata": {
    "colab": {
      "name": "CHGD_MSE.ipynb",
      "provenance": [],
      "collapsed_sections": []
    },
    "kernelspec": {
      "name": "python3",
      "display_name": "Python 3"
    },
    "accelerator": "GPU"
  },
  "cells": [
    {
      "cell_type": "markdown",
      "metadata": {
        "id": "9PtwokNORQwd",
        "colab_type": "text"
      },
      "source": [
        "## MSE performance of gradient descent (GD) with Chebyshev steps (CHGD) and other accelerated GD\n",
        "\n",
        "* This code is used to generate Figures 13 in the following manuscript:\n",
        "\n",
        "S. Takabe and T. Wadayama, \"Convergence Acceleration via Chebyshev Step:\n",
        "Plausible Interpretation of Deep-Unfolded Gradient Descent\"\n"
      ]
    },
    {
      "cell_type": "code",
      "metadata": {
        "id": "Cus2IScvRQwi",
        "colab_type": "code",
        "colab": {}
      },
      "source": [
        "import numpy as np\n",
        "import torch\n",
        "import torch.nn as nn\n",
        "import torch.optim as optim\n",
        "import torch.nn.functional as F\n",
        "import math\n",
        "\n",
        "device = torch.device('cuda') # 'cpu' or 'cuda'"
      ],
      "execution_count": 1,
      "outputs": []
    },
    {
      "cell_type": "code",
      "metadata": {
        "id": "SybYdQlvRQw6",
        "colab_type": "code",
        "colab": {}
      },
      "source": [
        "## model parameters \n",
        "n = 300\n",
        "m = 450\n",
        "bs_test = 10000 # number of samples \n",
        "\n",
        "itr = 16 # length of Chebyshev steps ($T$ in the paper)\n",
        "repeat = 4 # number of repat of CHGD \n",
        "itr_tot = itr*repeat # total number of iterations of GDs\n",
        "##"
      ],
      "execution_count": 2,
      "outputs": []
    },
    {
      "cell_type": "code",
      "metadata": {
        "id": "fhpuZdWtRQxW",
        "colab_type": "code",
        "colab": {
          "base_uri": "https://localhost:8080/",
          "height": 53
        },
        "outputId": "a4c9cb38-4c71-4e28-ba9d-be441bec3829"
      },
      "source": [
        "# generate A\n",
        "np.random.seed(seed=32)\n",
        "A=np.random.normal(0,1/np.sqrt(n),(n,m)) #\n",
        "W = np.dot(A,A.T)\n",
        "eig = np.linalg.eig( W )\n",
        "eig = eig[0] # eigenvalues\n",
        "\n",
        "A = torch.Tensor(np.diag(eig)).to(device)\n",
        "eig1 = np.sort(eig)[::-1]\n",
        "\n",
        "print(\"condition number, min. and max. eigenvalues of A\")\n",
        "print(np.max(eig)/np.min(eig),np.max(eig),np.min(eig))\n"
      ],
      "execution_count": 3,
      "outputs": [
        {
          "output_type": "stream",
          "text": [
            "condition number, min. and max. eigenvalues of A\n",
            "88.10381317130214 4.933429045923184 0.05599563592475858\n"
          ],
          "name": "stdout"
        }
      ]
    },
    {
      "cell_type": "code",
      "metadata": {
        "id": "dm89lk_rRQxc",
        "colab_type": "code",
        "colab": {}
      },
      "source": [
        "def grad_numerical_f(x, bs):\n",
        "    return torch.mm(x,A)"
      ],
      "execution_count": 4,
      "outputs": []
    },
    {
      "cell_type": "code",
      "metadata": {
        "id": "zUfR_W9aRQxl",
        "colab_type": "code",
        "colab": {}
      },
      "source": [
        "solution = torch.zeros(bs_test,n).to(device)"
      ],
      "execution_count": 5,
      "outputs": []
    },
    {
      "cell_type": "code",
      "metadata": {
        "id": "s3XIUm3zRQyU",
        "colab_type": "code",
        "colab": {}
      },
      "source": [
        "import matplotlib.pyplot as plt\n",
        "%matplotlib inline"
      ],
      "execution_count": 6,
      "outputs": []
    },
    {
      "cell_type": "code",
      "metadata": {
        "id": "bhmM9k7nRQyY",
        "colab_type": "code",
        "colab": {}
      },
      "source": [
        "class GD(nn.Module):\n",
        "    def __init__(self, num_itr):\n",
        "        super(GD, self).__init__()\n",
        "    def forward(self, num_itr, bs, gamma):\n",
        "        traj = []\n",
        "        s = torch.normal(1.0*torch.ones(bs,n),1.0 ).to(device) \n",
        "        traj.append(s)\n",
        "\n",
        "        for i in range(num_itr):\n",
        "            s = s - abs(gamma) * grad_numerical_f(s, bs)\n",
        "            traj.append(s)\n",
        "        return s, traj"
      ],
      "execution_count": 7,
      "outputs": []
    },
    {
      "cell_type": "code",
      "metadata": {
        "id": "PIWRKCqYma-p",
        "colab_type": "code",
        "colab": {}
      },
      "source": [
        "class Momentum(nn.Module):\n",
        "    def __init__(self, num_itr):\n",
        "        super(Momentum, self).__init__()\n",
        "    def forward(self, num_itr, bs, gamma, beta):\n",
        "        traj = []\n",
        "        s_t = torch.normal(1.0*torch.ones(bs,n),1.0 ).to(device) \n",
        "        s = s_t\n",
        "        traj.append(s)\n",
        "        s_m1 = torch.zeros(bs,n).to(device)\n",
        "        \n",
        "        for i in range(num_itr):\n",
        "            s = s_t - abs(gamma) * grad_numerical_f(s_t, bs) + beta * (s_t-s_m1)\n",
        "            traj.append(s)\n",
        "            s_m1 = s_t # s_{t-1}\n",
        "            s_t = s # s_{t}\n",
        "            \n",
        "        return s, traj"
      ],
      "execution_count": 8,
      "outputs": []
    },
    {
      "cell_type": "code",
      "metadata": {
        "id": "uAmELvS6uzwm",
        "colab_type": "code",
        "colab": {}
      },
      "source": [
        "class Cheby(nn.Module):\n",
        "    def __init__(self, num_itr):\n",
        "        super(Cheby, self).__init__()\n",
        "    def forward(self, num_itr, bs, max_itr, lam_min, lam_max):\n",
        "        traj = []\n",
        "        s = torch.normal(1.0*torch.ones(bs,n),1.0 ).to(device) \n",
        "        traj.append(s)\n",
        "        \n",
        "        gamma = []\n",
        "        # Chebyshev nodes\n",
        "        for i in range(max_itr):\n",
        "            gamma.append( 1.0/((lam_max+lam_min)*0.5+(lam_max-lam_min)*0.5*math.cos( (2*i+1)/(2*max_itr) *math.pi)) )\n",
        "        \n",
        "        num_list = range(max_itr)\n",
        "        \n",
        "        for i in range(num_itr):\n",
        "            i_ = i % max_itr  \n",
        "            s = s - gamma[num_list[i_]] * grad_numerical_f(s, bs)\n",
        "            traj.append(s)\n",
        "        return s, traj"
      ],
      "execution_count": 9,
      "outputs": []
    },
    {
      "cell_type": "code",
      "metadata": {
        "id": "F2nPR6wuJ5tt",
        "colab_type": "code",
        "colab": {}
      },
      "source": [
        "class Cheby_semi(nn.Module):\n",
        "    def __init__(self, num_itr):\n",
        "        super(Cheby_semi, self).__init__()\n",
        "    def forward(self, num_itr, bs, max_itr, lam_min, lam_max):\n",
        "        traj = []\n",
        "        s_t = torch.normal(1.0*torch.ones(bs,n),1.0 ).to(device) \n",
        "        s = s_t\n",
        "        traj.append(s)\n",
        "        s_m1 = torch.zeros(bs,n).to(device)\n",
        "        \n",
        "        kappa = lam_max/lam_min\n",
        "        rho = 1.0-1.0/kappa\n",
        "        gamma = 1 \n",
        "        eta = 1.0/lam_max\n",
        "        \n",
        "        for i in range(num_itr):\n",
        "            s = s_t - gamma * eta* grad_numerical_f(s_t, bs) + (gamma-1.0) * (s_t-s_m1)\n",
        "            traj.append(s)\n",
        "            if i==0:\n",
        "                gamma = 2.0/(2.0-rho**2.0)\n",
        "            else:\n",
        "                gamma = 1.0/(1.0-rho**2.0*gamma*0.25) # update\n",
        "            s_m1 = s_t # s_{t-1}\n",
        "            s_t = s # s_{t}\n",
        "        \n",
        "        for i in range(num_itr):\n",
        "            s = s - gamma * eta* grad_numerical_f(s, bs)\n",
        "            traj.append(s)\n",
        "        return s, traj"
      ],
      "execution_count": 10,
      "outputs": []
    },
    {
      "cell_type": "code",
      "metadata": {
        "id": "dfhBxlroRQyg",
        "colab_type": "code",
        "colab": {}
      },
      "source": [
        "gd_model = GD(itr).to(device)\n",
        "mom_model = Momentum(itr).to(device)\n",
        "ch_model = Cheby(itr).to(device)\n",
        "semi_model = Cheby_semi(itr).to(device)\n"
      ],
      "execution_count": 11,
      "outputs": []
    },
    {
      "cell_type": "code",
      "metadata": {
        "id": "H7S15RIvRQym",
        "colab_type": "code",
        "colab": {
          "base_uri": "https://localhost:8080/",
          "height": 295
        },
        "outputId": "5f09251d-7ab9-4606-a33d-ddf3b1a56cf9"
      },
      "source": [
        "bs = bs_test\n",
        "eps = 1e-60\n",
        "\n",
        "## standard GD with optimal constant step size\n",
        "gamma = 2/(np.min(eig)+np.max(eig)) # optimal \n",
        "norm_list_GD = []\n",
        "itr_list = []\n",
        "for i in range(itr_tot):\n",
        "    s_hat, _ = gd_model(i, bs, gamma)\n",
        "    err = (torch.norm(solution.to(device) - s_hat.to(device))**2).item()/bs\n",
        "    norm_list_GD.append((err+eps))\n",
        "    itr_list.append(i)\n",
        "plt.plot(itr_list, norm_list_GD, color=\"green\", label=\"GD\")\n",
        "\n",
        "# momentum (MOM)\n",
        "kappa = np.min(eig)/np.max(eig)\n",
        "beta = ((math.sqrt(kappa)-1)/(math.sqrt(kappa)+1) )**2.0 # optimal\n",
        "gamma = 2.0*(1+beta)/(np.max(eig)+np.min(eig)) # optimal\n",
        "#print(beta,gamma)\n",
        "\n",
        "norm_list_MOM = []\n",
        "for i in range(itr_tot):\n",
        "    s_hat, _ = mom_model(i, bs, gamma, beta)\n",
        "    err = (torch.norm(solution.to(device) - s_hat.to(device))**2).item()/bs\n",
        "    norm_list_MOM.append((err+eps))\n",
        "plt.plot(itr_list, norm_list_MOM, color=\"purple\", label=\"Momentum\")\n",
        "\n",
        "# GD with Chebyshev steps (CHGD)\n",
        "norm_list_CH = []\n",
        "for i in range(itr_tot):\n",
        "    s_hat, _ = ch_model(i, bs, itr, np.min(eig), np.max(eig))\n",
        "    err = (torch.norm(solution.to(device) - s_hat.to(device))**2).item()/bs\n",
        "    norm_list_CH.append((err+eps))\n",
        "    \n",
        "plt.plot(itr_list, norm_list_CH, color=\"black\", label=\"CHGD\")\n",
        "\n",
        "# Chebyshev semi-itr (CH-semi)\n",
        "norm_list_semi = []\n",
        "for i in range(itr_tot):\n",
        "    s_hat, _ = semi_model(i, bs, itr, np.min(eig), np.max(eig))\n",
        "    err = (torch.norm(solution.to(device) - s_hat.to(device))**2).item()/bs\n",
        "    norm_list_semi.append((err+eps))\n",
        "\n",
        "plt.plot(itr_list, norm_list_semi, color=\"blue\", label=\"Semi-itrative\")\n",
        "\n",
        "plt.title(\"Error curves\")\n",
        "plt.grid()\n",
        "plt.xlabel(\"iteration\")\n",
        "plt.ylabel(\"MSE\")\n",
        "plt.yscale(\"log\")\n",
        "plt.legend()\n",
        "plt.show()\n"
      ],
      "execution_count": 12,
      "outputs": [
        {
          "output_type": "display_data",
          "data": {
            "image/png": "[encoded data removed]",
            "text/plain": [
              "<Figure size 432x288 with 1 Axes>"
            ]
          },
          "metadata": {
            "tags": [],
            "needs_background": "light"
          }
        }
      ]
    },
    {
      "cell_type": "code",
      "metadata": {
        "id": "lHGoRf3W80Vq",
        "colab_type": "code",
        "colab": {
          "base_uri": "https://localhost:8080/",
          "height": 1000
        },
        "outputId": "31dd76df-0f3e-4d72-b29d-87567cbcfdca"
      },
      "source": [
        "# MSE performance\n",
        "print(\"#_ \", \"n=\", n, \"m=\",m, \"itr=\",itr, \"bs=\", bs,\n",
        "      \"seed=32\",\"lmax=\", np.max(eig),\"lmin=\", np.min(eig), \"kappa=\",np.max(eig)/np.min(eig) )\n",
        "print(\"#_ itr., Cheby, GD, MOM, CH-semi\")\n",
        "for i in range(itr_tot):\n",
        "    print(i+1, norm_list_CH[i], norm_list_GD[i], norm_list_MOM[i], norm_list_semi[i])\n"
      ],
      "execution_count": 13,
      "outputs": [
        {
          "output_type": "stream",
          "text": [
            "#_  n= 300 m= 450 itr= 16 bs= 10000 seed=32 lmax= 4.933429045923184 lmin= 0.05599563592475858 kappa= 88.10381317130214\n",
            "#_ itr., Cheby, GD, MOM, CH-semi\n",
            "1 600.24365 599.65665 600.2452 600.16015\n",
            "2 326.443325 240.1553 656.11795 174.1863125\n",
            "3 230.885175 153.4479125 544.6894 89.1316375\n",
            "4 177.8978875 111.8844125 409.315925 42.21001875\n",
            "5 143.1611375 87.07105625 291.82545 24.78208125\n",
            "6 117.4577625 70.36704375 203.109325 14.8886984375\n",
            "7 97.2844 58.58120625 139.58355 10.26448515625\n",
            "8 80.6770625 49.448021875 96.5407375 7.165834375\n",
            "9 66.59326875 42.254140625 66.41960625 5.159329296875\n",
            "10 53.9728875 36.50299375 45.287559375 3.6957921875\n",
            "11 42.774696875 32.125046875 31.193096875 2.6205408203125\n",
            "12 32.292159375 28.244853125 21.2795703125 1.8473138671875\n",
            "13 22.60514375 25.0063234375 14.401803125 1.277649609375\n",
            "14 13.84541875 22.247046875 9.77221796875 0.87641318359375\n",
            "15 6.406426953125 19.9743875 6.59769140625 0.598348486328125\n",
            "16 1.3989779296875 17.9551109375 4.4985 0.405826513671875\n",
            "17 1.2804416015625 16.2915578125 3.0543365234375 0.2749321044921875\n",
            "18 0.7031841796875 14.76265625 2.088906640625 0.18715743408203125\n",
            "19 0.498635400390625 13.3806109375 1.42184716796875 0.12782384033203126\n",
            "20 0.3850751220703125 12.17448125 0.9571654296875 0.08783408813476562\n",
            "21 0.3094872802734375 11.19376796875 0.661938134765625 0.05993316650390625\n",
            "22 0.253379150390625 10.2364671875 0.443409765625 0.04164805908203125\n",
            "23 0.2099043212890625 9.33291484375 0.307323828125 0.02860911865234375\n",
            "24 0.1747174560546875 8.607196875 0.210121826171875 0.019895487976074218\n",
            "25 0.14444935302734374 7.88085859375 0.144673583984375 0.013814111328125\n",
            "26 0.11731064453125 7.3131375 0.09917651977539063 0.00958507308959961\n",
            "27 0.0922298828125 6.72399375 0.06778580932617187 0.006710140228271484\n",
            "28 0.06974283447265625 6.264875390625 0.046807861328125 0.004688166046142578\n",
            "29 0.04911193542480469 5.734148046875 0.03255723266601562 0.003262222671508789\n",
            "30 0.030304388427734374 5.3751765625 0.022018894958496092 0.0023090938568115235\n",
            "31 0.014187588500976563 4.964316796875 0.015216305541992187 0.0016095314025878905\n",
            "32 0.003179063034057617 4.61717109375 0.010301608276367188 0.0011158000946044921\n",
            "33 0.004065361404418945 4.319415234375 0.007021243286132813 0.0007754480361938477\n",
            "34 0.002235764312744141 4.00408671875 0.004678744125366211 0.0005360262870788574\n",
            "35 0.0015899266242980956 3.74580234375 0.0031963502883911132 0.00036924750804901124\n",
            "36 0.0012235626220703124 3.474829296875 0.0021556560516357423 0.0002503638744354248\n",
            "37 0.000986045265197754 3.24833359375 0.0014831626892089845 0.00016935025453567506\n",
            "38 0.000807561206817627 3.02641484375 0.0010094325065612792 0.0001166468858718872\n",
            "39 0.0006706831455230713 2.835330078125 0.0006732861995697022 7.887956500053406e-05\n",
            "40 0.0005563350200653076 2.6349736328125 0.00045548295974731445 5.357009768486023e-05\n",
            "41 0.00045906562805175783 2.4675095703125 0.0003090686082839966 3.639627993106842e-05\n",
            "42 0.00037255804538726805 2.3426919921875 0.000208907151222229 2.4855896830558776e-05\n",
            "43 0.00029375720024108886 2.187056640625 0.00013980525732040406 1.6919904947280884e-05\n",
            "44 0.0002228421688079834 2.036647265625 9.549677968025208e-05 1.1611907929182052e-05\n",
            "45 0.00015737302303314208 1.902893359375 6.399107575416565e-05 8.039575070142746e-06\n",
            "46 9.653881788253784e-05 1.7973142578125 4.247014820575714e-05 5.568499490618706e-06\n",
            "47 4.5774495601654055e-05 1.6782091796875 2.8457215428352354e-05 3.848020359873771e-06\n",
            "48 1.0400608927011489e-05 1.576421875 1.9213859736919403e-05 2.6622287929058077e-06\n",
            "49 1.4422288537025451e-05 1.48713984375 1.3089685142040253e-05 1.8552634865045548e-06\n",
            "50 7.92425274848938e-06 1.39940400390625 8.800935000181199e-06 1.2861520983278752e-06\n",
            "51 5.6210018694400785e-06 1.31770380859375 5.955635756254196e-06 9.015421383082867e-07\n",
            "52 4.33989092707634e-06 1.24274541015625 4.023388400673866e-06 6.293168291449547e-07\n",
            "53 3.4986089915037156e-06 1.1615107421875 2.7479922398924827e-06 4.3867453932762144e-07\n",
            "54 2.8811533004045485e-06 1.0950748046875 1.8417516723275185e-06 3.0646075028926135e-07\n",
            "55 2.3769810795783998e-06 1.035203515625 1.2263580225408077e-06 2.1576136350631714e-07\n",
            "56 1.977596431970596e-06 0.9733517578125 8.291434496641159e-07 1.5180492773652077e-07\n",
            "57 1.633126474916935e-06 0.91414462890625 5.614265333861112e-07 1.0656645754352212e-07\n",
            "58 1.324785128235817e-06 0.85717216796875 3.7640980444848536e-07 7.546904380433261e-08\n",
            "59 1.0533847846090794e-06 0.80884453125 2.5510606355965137e-07 5.409971345216036e-08\n",
            "60 7.955169305205345e-07 0.770162109375 1.7373153241351247e-07 3.866867045871914e-08\n",
            "61 5.613143555819988e-07 0.725200927734375 1.1583426967263221e-07 2.732983557507396e-08\n",
            "62 3.4864027984440326e-07 0.679861572265625 7.909091655164957e-08 1.9779732974711805e-08\n",
            "63 1.6794779803603887e-07 0.64494287109375 5.195161793380976e-08 1.413041609339416e-08\n",
            "64 3.923028416465968e-08 0.60757490234375 3.603918885346502e-08 1.0231764463242143e-08\n"
          ],
          "name": "stdout"
        }
      ]
    },
    {
      "cell_type": "code",
      "metadata": {
        "id": "RSJ2u4mQRX5W",
        "colab_type": "code",
        "colab": {}
      },
      "source": [
        ""
      ],
      "execution_count": 13,
      "outputs": []
    }
  ]
}