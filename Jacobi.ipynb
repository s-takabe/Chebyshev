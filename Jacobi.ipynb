{
 "cells": [
  {
   "cell_type": "markdown",
   "metadata": {},
   "source": [
    "# Chebyshev-PSOR Jacobi method for solving linear equations\n",
    "\n",
    "Compairions of Jacobi method, Constant SOR, and Chebyshev PSOR: \n",
    "\n",
    "The linear equation $$P x = 0$$ is assumed without loss of generality where\n",
    "$$P = I + M^T M \\in \\mathbb{R}^{512 \\times 512}$$ is a diagonally dominant matrix.\n",
    "Each element of $M$ follows ${\\cal N}(0, 0.03^2)$. The minimum and maximum \n",
    "eigenvalues of $B = I-A$ are given by \n",
    "$\\lambda_{max}(B) = 1.922$ and $\\lambda_{min}(B) = 0.6766$, respectively.\n",
    "\n",
    "The 3-curves represent the errors in Euclidean norm from the fixed-point, i.e., $||x^{(k)} - x^*||$ where\n",
    "$x^*  = 0$.\n",
    "The plain Jacobi method, Jacobi method with the optimal constant SOR factor, \n",
    "and Jacobi method accelerated by the Chebyshev PSOR are compared. \n",
    "\n",
    "The optimal constant SOR factor \n",
    "is given by $$\\omega_{SOR} = 2/(\\lambda_{min}(B) + \\lambda_{max}(B)) = 0.7697$$"
   ]
  },
  {
   "cell_type": "markdown",
   "metadata": {},
   "source": [
    "## Required packages"
   ]
  },
  {
   "cell_type": "code",
   "execution_count": 2,
   "metadata": {},
   "outputs": [
    {
     "data": {
      "text/plain": [
       "<torch._C.Generator at 0x7fbd9f38c990>"
      ]
     },
     "execution_count": 2,
     "metadata": {},
     "output_type": "execute_result"
    }
   ],
   "source": [
    "import torch\n",
    "import torch.nn as nn\n",
    "import matplotlib.pyplot as plt\n",
    "import math\n",
    "torch.manual_seed(0)"
   ]
  },
  {
   "cell_type": "markdown",
   "metadata": {},
   "source": [
    "## Global constants"
   ]
  },
  {
   "cell_type": "code",
   "execution_count": 3,
   "metadata": {},
   "outputs": [],
   "source": [
    "n = 512 # dimension of matrix \n",
    "max_itr = 25 # maximum number of itaration\n",
    "T = 8 # period of Chebychev step"
   ]
  },
  {
   "cell_type": "markdown",
   "metadata": {},
   "source": [
    "## Generation of symmetric diagonally dominant random matrix"
   ]
  },
  {
   "cell_type": "code",
   "execution_count": 4,
   "metadata": {},
   "outputs": [],
   "source": [
    "M = torch.normal(torch.zeros(n,n), 0.03)\n",
    "M = M.t() @ M\n",
    "P = M + torch.eye(n)\n",
    "D = torch.diag_embed(torch.diagonal(P))\n",
    "R = P - D\n",
    "Dinv = torch.inverse(D)\n",
    "B = -Dinv @ R"
   ]
  },
  {
   "cell_type": "markdown",
   "metadata": {},
   "source": [
    "## Evaluation of eigen value of $I-B$"
   ]
  },
  {
   "cell_type": "code",
   "execution_count": 5,
   "metadata": {},
   "outputs": [
    {
     "name": "stdout",
     "output_type": "stream",
     "text": [
      "lmax = 1.921623706817627\n",
      "lmin = 0.676575243473053\n",
      "condition number =  2.8402217275249186\n"
     ]
    }
   ],
   "source": [
    "lmax = torch.max(torch.eig(torch.eye(n)-B)[0].sum(dim=1)).item()\n",
    "lmin = torch.min(torch.eig(torch.eye(n)-B)[0].sum(dim=1)).item()\n",
    "print('lmax =', lmax)\n",
    "print('lmin =', lmin)\n",
    "print('condition number = ', lmax/lmin)"
   ]
  },
  {
   "cell_type": "markdown",
   "metadata": {},
   "source": [
    "## q = 0 is assumed without loss of generality"
   ]
  },
  {
   "cell_type": "code",
   "execution_count": 6,
   "metadata": {},
   "outputs": [],
   "source": [
    "q = torch.zeros(n,1)"
   ]
  },
  {
   "cell_type": "markdown",
   "metadata": {},
   "source": [
    "## Jacobi method\n",
    "\n",
    "Fixed-point iteraiton of Jacobi method is given by \n",
    "$$\n",
    "\tx^{(k+1)} = D^{-1} \\left(q - (P - D) x^{(k)}  \\right).\n",
    "$$\n",
    "where $D$ is the diagonal matrix whose diagonal elements are identical to the diagonal elements of $P$.\n"
   ]
  },
  {
   "cell_type": "code",
   "execution_count": 7,
   "metadata": {},
   "outputs": [],
   "source": [
    "class Jacobi(nn.Module):\n",
    "    def __init__(self, P, b):\n",
    "        super(Jacobi, self).__init__()\n",
    "        D = torch.diag_embed(torch.diagonal(P))\n",
    "        self.R = P - D\n",
    "        self.Dinv = torch.inverse(D)\n",
    "        self.b = b\n",
    "\n",
    "    def forward(self, num_itr):\n",
    "        n = self.R.size()[0]\n",
    "        x = torch.normal(torch.zeros(n,1), std=1.0)\n",
    "        for i in range(num_itr):\n",
    "            x = self.Dinv @ (self.b - self.R @ x)\n",
    "        return x"
   ]
  },
  {
   "cell_type": "markdown",
   "metadata": {},
   "source": [
    "## SOR Jacobi method\n",
    "\n",
    "A constant SOR factor $\\omega$ is assumed.\n",
    "The SOR iteration is given by\n",
    "$$\n",
    "x^{(k+1)} = x^{(k)} + \\omega\\left( f( x^{(k)} ) - x^{(k)}  \\right).\n",
    "$$\n"
   ]
  },
  {
   "cell_type": "code",
   "execution_count": 8,
   "metadata": {},
   "outputs": [],
   "source": [
    "class SOR_Jacobi(nn.Module):\n",
    "    def __init__(self, P, b, omega):\n",
    "        super(SOR_Jacobi, self).__init__()\n",
    "        D = torch.diag_embed(torch.diagonal(P))\n",
    "        self.R = P - D\n",
    "        self.Dinv = torch.inverse(D)\n",
    "        self.b = b\n",
    "        self.omega = omega\n",
    "    def forward(self, num_itr):\n",
    "        n = self.R.size()[0]\n",
    "        x = torch.normal(torch.zeros(n,1), std=1.0)\n",
    "        for i in range(num_itr):\n",
    "            tmp = self.Dinv @ (self.b - self.R @ x)\n",
    "            x = x + self.omega*(tmp - x)\n",
    "        return x"
   ]
  },
  {
   "cell_type": "markdown",
   "metadata": {},
   "source": [
    "## Chebychev-PSOR Jacobi method"
   ]
  },
  {
   "cell_type": "code",
   "execution_count": 9,
   "metadata": {},
   "outputs": [],
   "source": [
    "# Chebychev root\n",
    "def c_root(k, a, b, T):\n",
    "    return  (a + b)/2.0 + ((b - a)/2.0) * math.cos(math.pi * (2*k+1)/(2*T))"
   ]
  },
  {
   "cell_type": "code",
   "execution_count": 10,
   "metadata": {},
   "outputs": [],
   "source": [
    "class Chebychev_SOR_Jacobi(nn.Module):\n",
    "    def __init__(self, P, b):\n",
    "        super(Chebychev_SOR_Jacobi, self).__init__()\n",
    "        D = torch.diag_embed(torch.diagonal(P))\n",
    "        self.R = P - D\n",
    "        self.Dinv = torch.inverse(D)\n",
    "        self.b = b\n",
    "    def forward(self, num_itr, T):\n",
    "        n = self.R.size()[0]\n",
    "        x = torch.normal(torch.zeros(n,1), std=1.0)\n",
    "        for i in range(num_itr):\n",
    "            tmp = self.Dinv @ (self.b - self.R @ x)\n",
    "            gamma = 1.0/c_root(i % T, lmin, lmax, T) # Chebychev step\n",
    "            x = x + gamma * (tmp - x)\n",
    "        return x"
   ]
  },
  {
   "cell_type": "markdown",
   "metadata": {},
   "source": [
    "## Plot functions"
   ]
  },
  {
   "cell_type": "code",
   "execution_count": 11,
   "metadata": {},
   "outputs": [],
   "source": [
    "def plot_pure_jacobi(P, q, color):\n",
    "    norm_list = []\n",
    "    jacobi = Jacobi(P, q)\n",
    "    for i in range(max_itr):\n",
    "        r = jacobi(i)\n",
    "        norm_list.append(torch.norm(r))\n",
    "    plt.plot(range(max_itr), norm_list, '.-', label='Jacobi', color=color, linestyle = \"solid\", linewidth=1, marker=\"s\") "
   ]
  },
  {
   "cell_type": "code",
   "execution_count": 12,
   "metadata": {},
   "outputs": [],
   "source": [
    "def plot_sor_jacobi(P, b, color):\n",
    "    norm_list = []\n",
    "    omega_opt = 2.0/(lmax+lmin) # optimal constant SOR factor\n",
    "    print('SOR omega = ', omega_opt)\n",
    "    sor_jacobi = SOR_Jacobi(P, q, omega_opt)\n",
    "    for i in range(max_itr):\n",
    "        r = sor_jacobi(i)\n",
    "        norm_list.append(torch.norm(r))\n",
    "    plt.plot(range(max_itr), norm_list, '.-', label='Constant SOR (optimal)', color=color, linestyle = \"solid\", linewidth=1, marker=\"^\") "
   ]
  },
  {
   "cell_type": "code",
   "execution_count": 13,
   "metadata": {
    "scrolled": true
   },
   "outputs": [],
   "source": [
    "def plot_chebychev_sor_jacobi(T, P, b, label, color):\n",
    "    chebychev_sor_jacobi = Chebychev_SOR_Jacobi(P, q)\n",
    "    c_norm_list = []\n",
    "    for i in range(max_itr):\n",
    "        r = chebychev_sor_jacobi(i, T)\n",
    "        c_norm_list.append(torch.norm(r))\n",
    "    plt.plot(range(max_itr), c_norm_list, '.-', label=label, color=color, linestyle = \"solid\", linewidth=1, marker=\"o\") "
   ]
  },
  {
   "cell_type": "markdown",
   "metadata": {},
   "source": [
    "## Plot of error curves (iteration step v.s. error in Euclidan norm)"
   ]
  },
  {
   "cell_type": "code",
   "execution_count": 14,
   "metadata": {},
   "outputs": [
    {
     "name": "stdout",
     "output_type": "stream",
     "text": [
      "SOR omega =  0.7697639935449304\n"
     ]
    },
    {
     "data": {
      "image/png": "[encoded data removed]",
      "text/plain": [
       "<Figure size 432x288 with 1 Axes>"
      ]
     },
     "metadata": {
      "needs_background": "light"
     },
     "output_type": "display_data"
    }
   ],
   "source": [
    "plt.rcParams[\"font.size\"] = 11\n",
    "plt.grid()\n",
    "plt.yscale('log')\n",
    "plt.xlabel('Iteration step')\n",
    "plt.ylabel('Error in Euclidian norm')\n",
    "plot_pure_jacobi(P, q, 'black') \n",
    "plot_sor_jacobi(P, q, 'blue') # maybe this is optimal for original SOR\n",
    "plot_chebychev_sor_jacobi(8, P, q, 'Chebychev (T=8)', 'red')\n",
    "plt.legend()\n",
    "plt.savefig('jacobi.pdf')"
   ]
  }
 ],
 "metadata": {
  "kernelspec": {
   "display_name": "Python 3",
   "language": "python",
   "name": "python3"
  },
  "language_info": {
   "codemirror_mode": {
    "name": "ipython",
    "version": 3
   },
   "file_extension": ".py",
   "mimetype": "text/x-python",
   "name": "python",
   "nbconvert_exporter": "python",
   "pygments_lexer": "ipython3",
   "version": "3.7.7"
  }
 },
 "nbformat": 4,
 "nbformat_minor": 4
}
