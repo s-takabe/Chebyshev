{
  "nbformat": 4,
  "nbformat_minor": 0,
  "metadata": {
    "colab": {
      "name": "DUGD_LMS_example.ipynb",
      "provenance": [],
      "collapsed_sections": []
    },
    "kernelspec": {
      "name": "python3",
      "display_name": "Python 3"
    },
    "accelerator": "GPU"
  },
  "cells": [
    {
      "cell_type": "markdown",
      "metadata": {
        "id": "9PtwokNORQwd",
        "colab_type": "text"
      },
      "source": [
        "## Deep-Unfolded Gradient Descent (DUGD) for least mean square problems\n",
        "\n",
        "* This code is used to generate Figure 1 in the following manuscript:\n",
        "\n",
        "S. Takabe and T. Wadayama, \"Convergence Acceleration via Chebyshev Step:  Plausible Interpretation of Deep-Unfolded Gradient Descent\"\n",
        "\n",
        "\n"
      ]
    },
    {
      "cell_type": "code",
      "metadata": {
        "id": "Cus2IScvRQwi",
        "colab_type": "code",
        "colab": {}
      },
      "source": [
        "import numpy as np\n",
        "import torch\n",
        "import torch.nn as nn\n",
        "import torch.optim as optim\n",
        "import torch.nn.functional as F\n",
        "import math\n",
        "\n",
        "device = torch.device('cuda') # 'cpu' or 'cuda'"
      ],
      "execution_count": 4,
      "outputs": []
    },
    {
      "cell_type": "code",
      "metadata": {
        "id": "IZwYDZCTRQxJ",
        "colab_type": "code",
        "colab": {}
      },
      "source": [
        "## model parameters \n",
        "itr = 25 # iteration steps $T$\n",
        "total_itr = itr # max. iterations\n",
        "n = 300 \n",
        "m = 600 \n",
        "##\n",
        "\n",
        "## training parameters\n",
        "bs = 200 # mini batch size\n",
        "num_batch = 500 # number of mini batches\n",
        "lr_adam = 0.002 # learning rate of optimizer\n",
        "init_val = 0.3 # initial values of $\\gamma_t$\n",
        "##\n",
        "\n",
        "## parameters for evauation of generalization error \n",
        "total_itr=25 # total number of iterations (multiple number of \"itr\")\n",
        "bs = 10000 # number of samples \n",
        "##"
      ],
      "execution_count": 12,
      "outputs": []
    },
    {
      "cell_type": "markdown",
      "metadata": {
        "id": "ZTbZILkVRQxU",
        "colab_type": "text"
      },
      "source": [
        "## 目的関数の定義"
      ]
    },
    {
      "cell_type": "code",
      "metadata": {
        "id": "fhpuZdWtRQxW",
        "colab_type": "code",
        "colab": {
          "base_uri": "https://localhost:8080/",
          "height": 53
        },
        "outputId": "10b41468-842d-43a0-8749-488fc82e9cd9"
      },
      "source": [
        "# generate A and H\n",
        "seed_ = 12\n",
        "np.random.seed(seed=seed_)\n",
        "H = np.random.normal(0,1.0/math.sqrt(n),(n,m)) \n",
        "A = np.dot(H,H.T)\n",
        "eig = np.linalg.eig(A)\n",
        "eig = eig[0] # eigenvalues\n",
        "\n",
        "W = torch.Tensor(np.diag(eig)).to(device)\n",
        "H = torch.from_numpy(H).float().to(device)\n",
        "\n",
        "print(\"condition number, min. and max. eigenvalues of A\")\n",
        "print(np.max(eig)/np.min(eig),np.max(eig),np.min(eig))\n"
      ],
      "execution_count": 6,
      "outputs": [
        {
          "output_type": "stream",
          "text": [
            "condition number, min. and max. eigenvalues of A\n",
            "30.828752475023858 5.678370598467161 0.18419073567986688\n"
          ],
          "name": "stdout"
        }
      ]
    },
    {
      "cell_type": "code",
      "metadata": {
        "id": "gz_pUan7RQxw",
        "colab_type": "code",
        "colab": {}
      },
      "source": [
        "# gradient\n",
        "def grad_numerical_f(x, bs):\n",
        "    return (x@H-y)@H.T # A^T(Ax-y)\n",
        "\n",
        "## DUGD \n",
        "class DUGD(nn.Module):\n",
        "    def __init__(self, num_itr):\n",
        "        super(DUGD, self).__init__()\n",
        "        self.gamma = nn.Parameter(init_val*torch.ones(num_itr))\n",
        "    def forward(self, num_itr, bs):\n",
        "        traj = []\n",
        "        s = torch.zeros(bs,n).to(device) # initial point\n",
        "        traj.append(s)\n",
        "        for i in range(num_itr):\n",
        "            j = i % itr\n",
        "            s = s - abs(self.gamma[j]) * grad_numerical_f(s, bs)\n",
        "            traj.append(s)\n",
        "        return s, traj\n",
        "\n",
        "model = DUGD(itr).to(device)\n",
        "loss_func = nn.MSELoss()\n",
        "opt   = optim.Adam(model.parameters(), lr=lr_adam)"
      ],
      "execution_count": 7,
      "outputs": []
    },
    {
      "cell_type": "code",
      "metadata": {
        "id": "pHLoa_OTRQyA",
        "colab_type": "code",
        "colab": {
          "base_uri": "https://localhost:8080/",
          "height": 1000
        },
        "outputId": "4a141efc-fe9f-4858-cc6c-a8911837d26f"
      },
      "source": [
        "## training process of DUGD\n",
        "# it takes about several minutes on Google Colaboratory\n",
        "\n",
        "loss_gen=[]\n",
        "for gen in (range(itr)): # incremental training\n",
        "    for i in range(num_batch):\n",
        "        opt.zero_grad()\n",
        "        solution = torch.normal(0.0*torch.ones(bs,n),1.0).to(device)\n",
        "        y = solution @ H\n",
        "        x_hat,_ = model(gen + 1, bs)\n",
        "        loss  = loss_func(x_hat, solution)\n",
        "        loss.backward()\n",
        "        opt.step()\n",
        "        if i % 200 == 0:\n",
        "            print(\"generation:\",gen+1, \" batch:\",i, \"\\t MSE loss:\",loss.item() )\n",
        "    loss_gen.append(loss.item())\n",
        "    "
      ],
      "execution_count": 8,
      "outputs": [
        {
          "output_type": "stream",
          "text": [
            "generation: 1  batch: 0 \t MSE loss: 0.3401855528354645\n",
            "generation: 1  batch: 200 \t MSE loss: 0.33376988768577576\n",
            "generation: 1  batch: 400 \t MSE loss: 0.33350440859794617\n",
            "generation: 2  batch: 0 \t MSE loss: 0.1866937130689621\n",
            "generation: 2  batch: 200 \t MSE loss: 0.14293411374092102\n",
            "generation: 2  batch: 400 \t MSE loss: 0.14281947910785675\n",
            "generation: 3  batch: 0 \t MSE loss: 0.08867742866277695\n",
            "generation: 3  batch: 200 \t MSE loss: 0.06666599214076996\n",
            "generation: 3  batch: 400 \t MSE loss: 0.06647271662950516\n",
            "generation: 4  batch: 0 \t MSE loss: 0.04321271553635597\n",
            "generation: 4  batch: 200 \t MSE loss: 0.03373166546225548\n",
            "generation: 4  batch: 400 \t MSE loss: 0.032688163220882416\n",
            "generation: 5  batch: 0 \t MSE loss: 0.021908778697252274\n",
            "generation: 5  batch: 200 \t MSE loss: 0.017499318346381187\n",
            "generation: 5  batch: 400 \t MSE loss: 0.01661672070622444\n",
            "generation: 6  batch: 0 \t MSE loss: 0.011644154787063599\n",
            "generation: 6  batch: 200 \t MSE loss: 0.009115904569625854\n",
            "generation: 6  batch: 400 \t MSE loss: 0.00870580691844225\n",
            "generation: 7  batch: 0 \t MSE loss: 0.006197791080921888\n",
            "generation: 7  batch: 200 \t MSE loss: 0.0048790909349918365\n",
            "generation: 7  batch: 400 \t MSE loss: 0.004648927599191666\n",
            "generation: 8  batch: 0 \t MSE loss: 0.0033607317600399256\n",
            "generation: 8  batch: 200 \t MSE loss: 0.0026906661223620176\n",
            "generation: 8  batch: 400 \t MSE loss: 0.0025512140709906816\n",
            "generation: 9  batch: 0 \t MSE loss: 0.0018643495859578252\n",
            "generation: 9  batch: 200 \t MSE loss: 0.0014994870871305466\n",
            "generation: 9  batch: 400 \t MSE loss: 0.0014232211979106069\n",
            "generation: 10  batch: 0 \t MSE loss: 0.0010519319912418723\n",
            "generation: 10  batch: 200 \t MSE loss: 0.000849078583996743\n",
            "generation: 10  batch: 400 \t MSE loss: 0.0008013471378944814\n",
            "generation: 11  batch: 0 \t MSE loss: 0.0006047873757779598\n",
            "generation: 11  batch: 200 \t MSE loss: 0.0004884999943897128\n",
            "generation: 11  batch: 400 \t MSE loss: 0.00045800782390870154\n",
            "generation: 12  batch: 0 \t MSE loss: 0.000346322834957391\n",
            "generation: 12  batch: 200 \t MSE loss: 0.0002815556072164327\n",
            "generation: 12  batch: 400 \t MSE loss: 0.00026525752036832273\n",
            "generation: 13  batch: 0 \t MSE loss: 0.0002023698907578364\n",
            "generation: 13  batch: 200 \t MSE loss: 0.00016392359975725412\n",
            "generation: 13  batch: 400 \t MSE loss: 0.00015417598478961736\n",
            "generation: 14  batch: 0 \t MSE loss: 0.00011805316171376035\n",
            "generation: 14  batch: 200 \t MSE loss: 9.679034701548517e-05\n",
            "generation: 14  batch: 400 \t MSE loss: 8.993777737487108e-05\n",
            "generation: 15  batch: 0 \t MSE loss: 6.93898182362318e-05\n",
            "generation: 15  batch: 200 \t MSE loss: 5.551733556785621e-05\n",
            "generation: 15  batch: 400 \t MSE loss: 5.259481258690357e-05\n",
            "generation: 16  batch: 0 \t MSE loss: 4.032826836919412e-05\n",
            "generation: 16  batch: 200 \t MSE loss: 3.311940599814989e-05\n",
            "generation: 16  batch: 400 \t MSE loss: 3.1339590350398794e-05\n",
            "generation: 17  batch: 0 \t MSE loss: 2.4142771508195437e-05\n",
            "generation: 17  batch: 200 \t MSE loss: 1.9929662812501192e-05\n",
            "generation: 17  batch: 400 \t MSE loss: 1.865838021331001e-05\n",
            "generation: 18  batch: 0 \t MSE loss: 1.4418789760384243e-05\n",
            "generation: 18  batch: 200 \t MSE loss: 1.1971877938776743e-05\n",
            "generation: 18  batch: 400 \t MSE loss: 1.1123774129373487e-05\n",
            "generation: 19  batch: 0 \t MSE loss: 8.57377381180413e-06\n",
            "generation: 19  batch: 200 \t MSE loss: 7.218739938252838e-06\n",
            "generation: 19  batch: 400 \t MSE loss: 6.643010237894487e-06\n",
            "generation: 20  batch: 0 \t MSE loss: 5.212773430685047e-06\n",
            "generation: 20  batch: 200 \t MSE loss: 4.291662662581075e-06\n",
            "generation: 20  batch: 400 \t MSE loss: 4.089425601705443e-06\n",
            "generation: 21  batch: 0 \t MSE loss: 3.156868388032308e-06\n",
            "generation: 21  batch: 200 \t MSE loss: 2.5877188818412833e-06\n",
            "generation: 21  batch: 400 \t MSE loss: 2.4523531010345323e-06\n",
            "generation: 22  batch: 0 \t MSE loss: 1.8924573623735341e-06\n",
            "generation: 22  batch: 200 \t MSE loss: 1.608187631063629e-06\n",
            "generation: 22  batch: 400 \t MSE loss: 1.5151397292356705e-06\n",
            "generation: 23  batch: 0 \t MSE loss: 1.182326627713337e-06\n",
            "generation: 23  batch: 200 \t MSE loss: 9.747196827447624e-07\n",
            "generation: 23  batch: 400 \t MSE loss: 1.0211439303020597e-06\n",
            "generation: 24  batch: 0 \t MSE loss: 8.216298397201172e-07\n",
            "generation: 24  batch: 200 \t MSE loss: 6.504741349999676e-07\n",
            "generation: 24  batch: 400 \t MSE loss: 7.030082542769378e-07\n",
            "generation: 25  batch: 0 \t MSE loss: 4.93305151394452e-07\n",
            "generation: 25  batch: 200 \t MSE loss: 3.969975352902111e-07\n",
            "generation: 25  batch: 400 \t MSE loss: 4.430424098700314e-07\n"
          ],
          "name": "stdout"
        }
      ]
    },
    {
      "cell_type": "code",
      "metadata": {
        "id": "77IS5huR-mwU",
        "colab_type": "code",
        "colab": {
          "base_uri": "https://localhost:8080/",
          "height": 496
        },
        "outputId": "1df379d7-fd3c-4a1b-aeaf-f8e08b42ee00"
      },
      "source": [
        "# learned gamma\n",
        "print(\"#_ n=\", n, \"m=\",m, \"itr=\",itr, \"bs=\", bs, \"num_batch=\", num_batch,\n",
        "      \"learning_rate=\", lr_adam,\"seed=\",seed_ ,\"lmax=\", np.max(eig),\"lmin=\", np.min(eig), \"kappa=\",np.max(eig)/np.min(eig),\"init_val=\",init_val  )\n",
        "print(\"#_ t, learned $\\gamma_t$\")\n",
        "for i in range(itr):\n",
        "    print(i+1, model.gamma[i].item())"
      ],
      "execution_count": 9,
      "outputs": [
        {
          "output_type": "stream",
          "text": [
            "#_ n= 300 m= 600 itr= 25 bs= 10000 num_batch= 500 learning_rate= 0.002 seed= 12 lmax= 5.678370598467161 lmin= 0.18419073567986688 kappa= 30.828752475023858 init_val= 0.3\n",
            "#_ t, learned $\\gamma_t$\n",
            "1 2.7968475818634033\n",
            "2 0.15829326212406158\n",
            "3 2.7523624897003174\n",
            "4 0.1761307716369629\n",
            "5 2.6692168712615967\n",
            "6 0.17889799177646637\n",
            "7 2.402275323867798\n",
            "8 0.18407782912254333\n",
            "9 2.0441930294036865\n",
            "10 0.19884438812732697\n",
            "11 1.7192271947860718\n",
            "12 0.19049596786499023\n",
            "13 1.1071189641952515\n",
            "14 0.20766183733940125\n",
            "15 0.8196592330932617\n",
            "16 0.21995534002780914\n",
            "17 0.6515235304832458\n",
            "18 0.23534350097179413\n",
            "19 0.5379718542098999\n",
            "20 0.2542450726032257\n",
            "21 0.4552152156829834\n",
            "22 0.30794599652290344\n",
            "23 0.2782919704914093\n",
            "24 0.392377644777298\n",
            "25 0.3454958498477936\n"
          ],
          "name": "stdout"
        }
      ]
    },
    {
      "cell_type": "code",
      "metadata": {
        "id": "bhmM9k7nRQyY",
        "colab_type": "code",
        "colab": {}
      },
      "source": [
        "## naive GD with a constant step size \n",
        "class GD(nn.Module):\n",
        "    def __init__(self, num_itr):\n",
        "        super(GD, self).__init__()\n",
        "    def forward(self, num_itr, bs, gamma):\n",
        "        traj = []\n",
        "        s  = torch.zeros(bs,n).to(device)\n",
        "        traj.append(s)\n",
        "\n",
        "        for i in range(num_itr):\n",
        "            s = s - abs(gamma) * grad_numerical_f(s, bs)\n",
        "            traj.append(s)\n",
        "        return s, traj\n",
        "gd_model = GD(itr).to(device)\n"
      ],
      "execution_count": 13,
      "outputs": []
    },
    {
      "cell_type": "code",
      "metadata": {
        "id": "H7S15RIvRQym",
        "colab_type": "code",
        "colab": {
          "base_uri": "https://localhost:8080/",
          "height": 514
        },
        "outputId": "e83759f9-4868-4a4b-9b70-95b48fc8b2c9"
      },
      "source": [
        "## Evaluation of c error\n",
        "\n",
        "solution = torch.normal(0.0*torch.ones(bs,n),1.0).to(device).detach()\n",
        "y = solution@H.detach()\n",
        "\n",
        "## trained DUGD\n",
        "\n",
        "norm_list_DUGD = []\n",
        "itr_list = []\n",
        "for i in range(total_itr+1):\n",
        "    s_hat,_ = model(i, bs)\n",
        "    err = (torch.norm(solution.to(device) - s_hat.to(device))**2).item()/(n*bs)\n",
        "    norm_list_DUGD.append(err)\n",
        "    itr_list.append(i)\n",
        "\n",
        "## naive GD \n",
        "gamma = 2.0/(np.max(eig)+np.min(eig)) # optimal constant step size\n",
        "norm_list_GD = []\n",
        "for i in range(total_itr+1):\n",
        "\n",
        "    s_hat, _ = gd_model(i, bs, gamma)\n",
        "    err = (torch.norm(solution.to(device) - s_hat.to(device))**2).item()/(n*bs)\n",
        "    norm_list_GD.append(err)\n",
        "\n",
        "\n",
        "# generalization error (MSE)\n",
        "print(\"#_ generalization error (MSE)\")\n",
        "print(\"#_ itr, DUGD, GD\")\n",
        "for i in range(total_itr+1):\n",
        "    print(i,\"{:.5e} {:.5e}\".format(norm_list_DUGD[i], norm_list_GD[i]) )"
      ],
      "execution_count": 19,
      "outputs": [
        {
          "output_type": "stream",
          "text": [
            "#_ generalization error (MSE)\n",
            "#_ itr, DUGD, GD\n",
            "0 9.99259e-01 9.99259e-01\n",
            "1 3.64287e+01 3.33011e-01\n",
            "2 6.95999e+00 1.85002e-01\n",
            "3 3.86486e+02 1.19195e-01\n",
            "4 5.97057e+01 8.27140e-02\n",
            "5 3.00187e+03 6.00709e-02\n",
            "6 5.19255e+02 4.49974e-02\n",
            "7 2.01890e+04 3.44702e-02\n",
            "8 3.47021e+03 2.68579e-02\n",
            "9 9.06827e+04 2.12066e-02\n",
            "10 1.31697e+04 1.69242e-02\n",
            "11 2.15415e+05 1.36256e-02\n",
            "12 3.78916e+04 1.10507e-02\n",
            "13 1.92627e+05 9.01827e-03\n",
            "14 2.60609e+04 7.39916e-03\n",
            "15 5.13028e+04 6.09905e-03\n",
            "16 5.69392e+03 5.04796e-03\n",
            "17 4.70849e+03 4.19315e-03\n",
            "18 3.90736e+02 3.49435e-03\n",
            "19 1.30250e+02 2.92046e-03\n",
            "20 7.00819e+00 2.44721e-03\n",
            "21 7.92635e-01 2.05554e-03\n",
            "22 6.72113e-03 1.73031e-03\n",
            "23 3.32633e-04 1.45943e-03\n",
            "24 3.29349e-06 1.23322e-03\n",
            "25 3.86385e-07 1.04384e-03\n"
          ],
          "name": "stdout"
        }
      ]
    },
    {
      "cell_type": "code",
      "metadata": {
        "id": "89Rnbk4rn5Hy",
        "colab_type": "code",
        "colab": {
          "base_uri": "https://localhost:8080/",
          "height": 279
        },
        "outputId": "cd6a594c-012c-4820-f4d8-36186558b5a4"
      },
      "source": [
        "import matplotlib.pyplot as plt\n",
        "\n",
        "plt.plot(itr_list, norm_list_DUGD, label=\"DUGD\")\n",
        "plt.plot(itr_list, norm_list_GD, label=\"GD\")\n",
        "plt.xlabel('iterations')\n",
        "plt.ylabel('MSE')\n",
        "plt.yscale('log')\n",
        "plt.legend()\n",
        "plt.show()"
      ],
      "execution_count": 23,
      "outputs": [
        {
          "output_type": "display_data",
          "data": {
            "image/png": "[encoded data removed]",
            "text/plain": [
              "<Figure size 432x288 with 1 Axes>"
            ]
          },
          "metadata": {
            "tags": [],
            "needs_background": "light"
          }
        }
      ]
    },
    {
      "cell_type": "code",
      "metadata": {
        "id": "Iy2yhyzEHib_",
        "colab_type": "code",
        "colab": {}
      },
      "source": [
        ""
      ],
      "execution_count": null,
      "outputs": []
    }
  ]
}